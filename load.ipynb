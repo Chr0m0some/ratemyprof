{
 "cells": [
  {
   "cell_type": "code",
   "execution_count": 1,
   "metadata": {},
   "outputs": [
    {
     "name": "stderr",
     "output_type": "stream",
     "text": [
      "c:\\Users\\chris\\.conda\\envs\\rag2\\lib\\site-packages\\pinecone\\data\\index.py:1: TqdmWarning: IProgress not found. Please update jupyter and ipywidgets. See https://ipywidgets.readthedocs.io/en/stable/user_install.html\n",
      "  from tqdm.autonotebook import tqdm\n"
     ]
    }
   ],
   "source": [
    "from dotenv import load_dotenv\n",
    "load_dotenv()\n",
    "import os\n",
    "# from openai import OpenAI\n",
    "from pinecone import Pinecone, ServerlessSpec\n",
    "from sentence_transformers import SentenceTransformer"
   ]
  },
  {
   "cell_type": "code",
   "execution_count": 2,
   "metadata": {},
   "outputs": [],
   "source": [
    "pc = Pinecone(api_key=os.getenv(\"PINECONE_API_KEY\"))\n",
    "pc.create_index(\n",
    "    name=\"rag\",\n",
    "    dimension=1024,\n",
    "    metric=\"cosine\",\n",
    "    spec=ServerlessSpec(cloud=\"aws\", region=\"us-east-1\"),\n",
    ")"
   ]
  },
  {
   "cell_type": "code",
   "execution_count": 3,
   "metadata": {},
   "outputs": [
    {
     "data": {
      "text/plain": [
       "[{'professor': 'Dr. Emily Johnson',\n",
       "  'subject': 'Biology',\n",
       "  'stars': 4,\n",
       "  'review': \"Dr. Johnson's lectures are engaging and informative. She's always willing to help students outside of class.\"},\n",
       " {'professor': 'Prof. Michael Chen',\n",
       "  'subject': 'Computer Science',\n",
       "  'stars': 5,\n",
       "  'review': 'Brilliant instructor! Prof. Chen makes complex algorithms easy to understand. His projects are challenging but rewarding.'},\n",
       " {'professor': 'Dr. Sarah Thompson',\n",
       "  'subject': 'Psychology',\n",
       "  'stars': 3,\n",
       "  'review': 'Dr. Thompson knows her subject well, but her lectures can be a bit dry. More interactive sessions would be helpful.'},\n",
       " {'professor': 'Prof. David Martinez',\n",
       "  'subject': 'History',\n",
       "  'stars': 4,\n",
       "  'review': 'Prof. Martinez brings history to life with his storytelling. His exams are tough but fair.'},\n",
       " {'professor': 'Dr. Rachel Kim',\n",
       "  'subject': 'Chemistry',\n",
       "  'stars': 5,\n",
       "  'review': 'Dr. Kim is an exceptional teacher. Her lab sessions are well-organized and she explains concepts clearly.'},\n",
       " {'professor': 'Prof. James Wilson',\n",
       "  'subject': 'Mathematics',\n",
       "  'stars': 2,\n",
       "  'review': 'Prof. Wilson seems knowledgeable, but he often moves too fast in lectures. More practice problems would be beneficial.'},\n",
       " {'professor': 'Dr. Olivia Brown',\n",
       "  'subject': 'English Literature',\n",
       "  'stars': 4,\n",
       "  'review': \"Dr. Brown's passion for literature is contagious. Her feedback on essays is always constructive and helpful.\"},\n",
       " {'professor': 'Prof. Alexander Lee',\n",
       "  'subject': 'Physics',\n",
       "  'stars': 5,\n",
       "  'review': 'Prof. Lee is a genius at explaining complex physics concepts. His demonstrations in class are unforgettable.'},\n",
       " {'professor': 'Dr. Sophia Garcia',\n",
       "  'subject': 'Sociology',\n",
       "  'stars': 3,\n",
       "  'review': \"Dr. Garcia's lectures are informative, but the workload can be overwhelming at times. More guidance on assignments would be appreciated.\"},\n",
       " {'professor': 'Prof. William Taylor',\n",
       "  'subject': 'Economics',\n",
       "  'stars': 4,\n",
       "  'review': 'Prof. Taylor relates economic theories to real-world situations effectively. His classes are always thought-provoking.'},\n",
       " {'professor': 'Dr. Emma White',\n",
       "  'subject': 'Art History',\n",
       "  'stars': 5,\n",
       "  'review': \"Dr. White's enthusiasm for art is infectious. Her virtual museum tours are a highlight of the course.\"},\n",
       " {'professor': 'Prof. Robert Green',\n",
       "  'subject': 'Political Science',\n",
       "  'stars': 3,\n",
       "  'review': 'Prof. Green knows his subject well, but sometimes struggles to remain impartial during discussions on controversial topics.'},\n",
       " {'professor': 'Dr. Linda Chen',\n",
       "  'subject': 'Linguistics',\n",
       "  'stars': 4,\n",
       "  'review': 'Dr. Chen makes language study fascinating. Her assignments are creative and encourage critical thinking.'},\n",
       " {'professor': 'Prof. Thomas Brown',\n",
       "  'subject': 'Philosophy',\n",
       "  'stars': 5,\n",
       "  'review': \"Prof. Brown's Socratic method of teaching is incredibly effective. He challenges students to think deeply about complex issues.\"},\n",
       " {'professor': 'Dr. Jessica Lee',\n",
       "  'subject': 'Environmental Science',\n",
       "  'stars': 4,\n",
       "  'review': \"Dr. Lee's field trips are excellent learning experiences. She effectively links theory to practical environmental issues.\"},\n",
       " {'professor': 'Prof. Daniel Smith',\n",
       "  'subject': 'Business Administration',\n",
       "  'stars': 2,\n",
       "  'review': \"Prof. Smith's lectures are often disorganized. More real-world case studies would improve the course.\"},\n",
       " {'professor': 'Dr. Maria Rodriguez',\n",
       "  'subject': 'Neuroscience',\n",
       "  'stars': 5,\n",
       "  'review': 'Dr. Rodriguez is at the forefront of her field. Her lectures are challenging but incredibly rewarding.'},\n",
       " {'professor': 'Prof. Kevin Park',\n",
       "  'subject': 'Music Theory',\n",
       "  'stars': 4,\n",
       "  'review': \"Prof. Park's practical approach to music theory is refreshing. His composition assignments are both fun and educational.\"},\n",
       " {'professor': 'Dr. Laura Johnson',\n",
       "  'subject': 'Anthropology',\n",
       "  'stars': 3,\n",
       "  'review': \"Dr. Johnson's research experience adds depth to her teachings, but sometimes her lectures can be hard to follow.\"},\n",
       " {'professor': 'Prof. Christopher Lee',\n",
       "  'subject': 'Mechanical Engineering',\n",
       "  'stars': 5,\n",
       "  'review': \"Prof. Lee's hands-on approach to teaching engineering is excellent. His projects prepare students well for industry work.\"}]"
      ]
     },
     "execution_count": 3,
     "metadata": {},
     "output_type": "execute_result"
    }
   ],
   "source": [
    "import json\n",
    "data = json.load(open(\"reviews.json\"))\n",
    "data['reviews']"
   ]
  },
  {
   "cell_type": "code",
   "execution_count": 8,
   "metadata": {},
   "outputs": [
    {
     "name": "stdout",
     "output_type": "stream",
     "text": [
      "True\n",
      "NVIDIA GeForce RTX 2080 SUPER\n",
      "2.4.0\n",
      "12.4\n"
     ]
    }
   ],
   "source": [
    "import torch\n",
    "print(torch.cuda.is_available())\n",
    "print(torch.cuda.get_device_name(0) if torch.cuda.is_available() else \"CUDA not available\")\n",
    "print(torch.__version__)\n",
    "print(torch.version.cuda)\n",
    "torch.cuda.empty_cache()"
   ]
  },
  {
   "cell_type": "code",
   "execution_count": 9,
   "metadata": {},
   "outputs": [
    {
     "name": "stderr",
     "output_type": "stream",
     "text": [
      "Special tokens have been added in the vocabulary, make sure the associated word embeddings are fine-tuned or trained.\n"
     ]
    }
   ],
   "source": [
    "processed_data = []\n",
    "model = SentenceTransformer(\"dunzhang/stella_en_1.5B_v5\", trust_remote_code=True).cuda()\n",
    "\n",
    "for review in data['reviews']:\n",
    "    embedding = model.encode([review])\n",
    "    processed_data.append({\n",
    "        \"values\": embedding[0],\n",
    "        \"id\": review['professor'],\n",
    "        \"metadata\": {\n",
    "            \"review\": review['review'],\n",
    "            \"subjects\": review['subject'],\n",
    "            \"stars\": review['stars'],\n",
    "        }\n",
    "    })"
   ]
  },
  {
   "cell_type": "code",
   "execution_count": 12,
   "metadata": {},
   "outputs": [
    {
     "data": {
      "text/plain": [
       "{'values': array([-1.039665  ,  0.15772526,  1.5772394 , ..., -0.14516646,\n",
       "        -0.13970429,  3.0700932 ], dtype=float32),\n",
       " 'id': 'Prof. Michael Chen',\n",
       " 'metadata': {'review': 'Brilliant instructor! Prof. Chen makes complex algorithms easy to understand. His projects are challenging but rewarding.',\n",
       "  'subjects': 'Computer Science',\n",
       "  'stars': 5}}"
      ]
     },
     "execution_count": 12,
     "metadata": {},
     "output_type": "execute_result"
    }
   ],
   "source": [
    "processed_data[1]"
   ]
  }
 ],
 "metadata": {
  "kernelspec": {
   "display_name": "rag",
   "language": "python",
   "name": "python3"
  },
  "language_info": {
   "codemirror_mode": {
    "name": "ipython",
    "version": 3
   },
   "file_extension": ".py",
   "mimetype": "text/x-python",
   "name": "python",
   "nbconvert_exporter": "python",
   "pygments_lexer": "ipython3",
   "version": "3.10.14"
  }
 },
 "nbformat": 4,
 "nbformat_minor": 2
}
